{
 "cells": [
  {
   "cell_type": "code",
   "execution_count": null,
   "metadata": {},
   "outputs": [],
   "source": [
    "import fixedfieldreader as ffr\n",
    "import pandas as pd"
   ]
  },
  {
   "cell_type": "markdown",
   "metadata": {},
   "source": [
    "First we define the field descriptors, based on the documentation.\n",
    "The format is\n",
    "```\n",
    "(name, width, type)\n",
    "```\n",
    "where `name` is the field name, `width` is the field width, and `type` is the field type (`s` for string or `x` for omitted/ignored).\n",
    "Names for non-omitted fields must be distinct. Names for omitted fields are not used, and can be repeated (e.g., \"reserved\")."
   ]
  },
  {
   "cell_type": "code",
   "execution_count": null,
   "metadata": {},
   "outputs": [],
   "source": [
    "fields = [\n",
    "    ('reserved', 18, 'x'),\n",
    "    ('record_type', 1, 's'),\n",
    "    ('resident_status', 1, 's'),\n",
    "    ('state_of_occurrence_fips', 2, 's'),\n",
    "    ('county_of_occurrence_fips', 3, 's'),\n",
    "    ('reserved', 2, 'x'),\n",
    "    ('county_of_occurrence_pop', 1, 'x'),\n",
    "    ('state_of_residence_fips', 2, 's'),\n",
    "    ('reserved', 2, 'x'),\n",
    "    ('state_of_residence_recode', 2, 's'),\n",
    "    ('county_of_residence_fips', 3, 's'),\n",
    "    ('reserved', 13, 'x'),\n",
    "    ('county_of_residence_pop', 1, 'x'),\n",
    "    ('reserved', 7, 'x'),\n",
    "    ('state_of_birth_recode', 2, 's'),\n",
    "    ('edu2003', 1, 's'),\n",
    "    ('eduflag', 1, 's'),\n",
    "    ('death_mon', 2, 's'),\n",
    "    ('reserved', 2, 'x'),\n",
    "    ('sex', 1, 's'),\n",
    "    ('detailed_age', 4, 's'),\n",
    "    ('age_sub_flag', 1, 's'),\n",
    "    ('age_recode_52', 2, 's'),\n",
    "    ('age_recode_27', 2, 's'),\n",
    "    ('age_recode_12', 2, 's'),\n",
    "    ('infant_age_recode_22', 2, 's'),\n",
    "    ('place_of_death_status', 1, 's'),\n",
    "    ('marital_status', 1, 's'),\n",
    "    ('death_day_of_week', 1, 's'),\n",
    "    ('reserved', 16, 'x'),\n",
    "    ('data_year', 4, 's'),\n",
    "    ('work_injury', 1, 's'),\n",
    "    ('death_manner', 1, 's'),\n",
    "    ('disposition_manner', 1, 's'),\n",
    "    ('autopsy', 1, 's'),\n",
    "    ('reserved', 34, 'x'),\n",
    "    ('activity_code', 1, 's'),\n",
    "    ('place_of_injury', 1, 's'),\n",
    "    ('icd10', 4, 's'),\n",
    "    ('358_cause_recode', 3, 's'),\n",
    "    ('reserved', 1, 'x'),\n",
    "    ('113_cause_recode', 3, 's'),\n",
    "    ('130_infant_cause_recode', 3, 's'),\n",
    "    ('39_cause_recode', 2, 's'),\n",
    "    ('reserved', 1, 'x'),\n",
    "    ('multiple_conditions', 281, 's'),\n",
    "    ('reserved', 1, 'x'),\n",
    "    ('race', 2, 's'),\n",
    "    ('race_bridged', 1, 's'),\n",
    "    ('race_imputed', 1, 's'),\n",
    "    ('race_recode_3', 1, 's'),\n",
    "    ('race_recode_5', 1, 's'),\n",
    "    ('reserved', 33, 'x'),\n",
    "    ('hispanic_origin', 3, 's'),\n",
    "    ('reserved', 1, 'x'),\n",
    "    ('hispanic_origin_race_recode', 3, 's'),\n",
    "]"
   ]
  },
  {
   "cell_type": "markdown",
   "metadata": {},
   "source": [
    "The fields are used to initialize a factory class instance."
   ]
  },
  {
   "cell_type": "code",
   "execution_count": null,
   "metadata": {},
   "outputs": [],
   "source": [
    "factory = ffr.FixedFieldReaderFactory(*fields)"
   ]
  },
  {
   "cell_type": "markdown",
   "metadata": {},
   "source": [
    "And the factory is used to make a reader for a file (any iterable of lines) in the specified format."
   ]
  },
  {
   "cell_type": "code",
   "execution_count": null,
   "metadata": {},
   "outputs": [],
   "source": [
    "with open('vs16mort-subset.duscmcpub', 'rb') as file:\n",
    "    reader = factory.reader(file, usedict=False)\n",
    "    data = list(reader)"
   ]
  },
  {
   "cell_type": "markdown",
   "metadata": {},
   "source": [
    "The reader can (must) be iterated to retrieve tuples of fields (if `usedict` is `False`) or dicts of fields (if `usedict` is true). Below, we use it to initialize a dataframe, and further process one of the columns by splitting it into a list."
   ]
  },
  {
   "cell_type": "code",
   "execution_count": null,
   "metadata": {},
   "outputs": [],
   "source": [
    "df = pd.DataFrame(data,\n",
    "                  columns=[field[0] for field in fields\n",
    "                           if field[2] != 'x'])\n",
    "df['multiple_conditions'] = df['multiple_conditions'].str.split(' +')"
   ]
  },
  {
   "cell_type": "code",
   "execution_count": null,
   "metadata": {},
   "outputs": [],
   "source": [
    "df.T"
   ]
  },
  {
   "cell_type": "code",
   "execution_count": null,
   "metadata": {},
   "outputs": [],
   "source": []
  }
 ],
 "metadata": {
  "language_info": {
   "name": "python",
   "pygments_lexer": "ipython3"
  }
 },
 "nbformat": 4,
 "nbformat_minor": 2
}
